{
 "cells": [
  {
   "cell_type": "code",
   "execution_count": 2,
   "metadata": {},
   "outputs": [],
   "source": [
    "# Question 1\n",
    "import pandas as pd\n",
    "file_path = \"C:/Users/bayra/Downloads/wage.csv\"\n",
    "wage_data = pd.read_csv(file_path)"
   ]
  },
  {
   "cell_type": "code",
   "execution_count": 3,
   "metadata": {},
   "outputs": [
    {
     "name": "stdout",
     "output_type": "stream",
     "text": [
      "   year  age            maritl      race        education              region  \\\n",
      "0  2006   18  1. Never Married  1. White     1. < HS Grad  2. Middle Atlantic   \n",
      "1  2004   24  1. Never Married  1. White  4. College Grad  2. Middle Atlantic   \n",
      "2  2003   45        2. Married  1. White  3. Some College  2. Middle Atlantic   \n",
      "3  2003   43        2. Married  3. Asian  4. College Grad  2. Middle Atlantic   \n",
      "4  2005   50       4. Divorced  1. White       2. HS Grad  2. Middle Atlantic   \n",
      "5  2008   54        2. Married  1. White  4. College Grad  2. Middle Atlantic   \n",
      "6  2009   44        2. Married  4. Other  3. Some College  2. Middle Atlantic   \n",
      "7  2008   30  1. Never Married  3. Asian  3. Some College  2. Middle Atlantic   \n",
      "8  2006   41  1. Never Married  2. Black  3. Some College  2. Middle Atlantic   \n",
      "9  2004   52        2. Married  1. White       2. HS Grad  2. Middle Atlantic   \n",
      "\n",
      "         jobclass          health health_ins   logwage        wage  \n",
      "0   1. Industrial       1. <=Good      2. No  4.318063   75.043154  \n",
      "1  2. Information  2. >=Very Good      2. No  4.255273   70.476020  \n",
      "2   1. Industrial       1. <=Good     1. Yes  4.875061  130.982177  \n",
      "3  2. Information  2. >=Very Good     1. Yes  5.041393  154.685293  \n",
      "4  2. Information       1. <=Good     1. Yes  4.318063   75.043154  \n",
      "5  2. Information  2. >=Very Good     1. Yes  4.845098  127.115744  \n",
      "6   1. Industrial  2. >=Very Good     1. Yes  5.133021  169.528538  \n",
      "7  2. Information       1. <=Good     1. Yes  4.716003  111.720849  \n",
      "8  2. Information  2. >=Very Good     1. Yes  4.778151  118.884359  \n",
      "9  2. Information  2. >=Very Good     1. Yes  4.857332  128.680488  \n"
     ]
    }
   ],
   "source": [
    "# Question 2\n",
    "print(wage_data.head(10))"
   ]
  },
  {
   "cell_type": "code",
   "execution_count": 6,
   "metadata": {},
   "outputs": [
    {
     "name": "stdout",
     "output_type": "stream",
     "text": [
      "      year  age            maritl      race        education  \\\n",
      "2990  2009   50        2. Married  2. Black       2. HS Grad   \n",
      "2991  2003   26  1. Never Married  2. Black  3. Some College   \n",
      "2992  2007   35        2. Married  1. White     1. < HS Grad   \n",
      "2993  2006   31        2. Married  1. White       2. HS Grad   \n",
      "2994  2009   31        2. Married  1. White  4. College Grad   \n",
      "2995  2008   44        2. Married  1. White  3. Some College   \n",
      "2996  2007   30        2. Married  1. White       2. HS Grad   \n",
      "2997  2005   27        2. Married  2. Black     1. < HS Grad   \n",
      "2998  2005   27  1. Never Married  1. White  3. Some College   \n",
      "2999  2009   55      5. Separated  1. White       2. HS Grad   \n",
      "\n",
      "                  region        jobclass          health health_ins   logwage  \\\n",
      "2990  2. Middle Atlantic   1. Industrial  2. >=Very Good      2. No  4.886491   \n",
      "2991  2. Middle Atlantic   1. Industrial  2. >=Very Good      2. No  4.778151   \n",
      "2992  2. Middle Atlantic   1. Industrial       1. <=Good      2. No  4.698970   \n",
      "2993  2. Middle Atlantic  2. Information  2. >=Very Good     1. Yes  4.633468   \n",
      "2994  2. Middle Atlantic  2. Information  2. >=Very Good     1. Yes  4.893207   \n",
      "2995  2. Middle Atlantic   1. Industrial  2. >=Very Good     1. Yes  5.041393   \n",
      "2996  2. Middle Atlantic   1. Industrial  2. >=Very Good      2. No  4.602060   \n",
      "2997  2. Middle Atlantic   1. Industrial       1. <=Good      2. No  4.193125   \n",
      "2998  2. Middle Atlantic   1. Industrial  2. >=Very Good     1. Yes  4.477121   \n",
      "2999  2. Middle Atlantic   1. Industrial       1. <=Good     1. Yes  4.505150   \n",
      "\n",
      "            wage  \n",
      "2990  132.487821  \n",
      "2991  118.884359  \n",
      "2992  109.833986  \n",
      "2993  102.870247  \n",
      "2994  133.380608  \n",
      "2995  154.685293  \n",
      "2996   99.689464  \n",
      "2997   66.229408  \n",
      "2998   87.981033  \n",
      "2999   90.481913  \n"
     ]
    }
   ],
   "source": [
    "# Question 3\n",
    "print(wage_data.tail(10))"
   ]
  },
  {
   "cell_type": "code",
   "execution_count": 4,
   "metadata": {},
   "outputs": [
    {
     "name": "stdout",
     "output_type": "stream",
     "text": [
      "3000\n"
     ]
    }
   ],
   "source": [
    "# Question 4\n",
    "num_rows = wage_data.shape[0]\n",
    "print(num_rows)"
   ]
  },
  {
   "cell_type": "code",
   "execution_count": 5,
   "metadata": {},
   "outputs": [
    {
     "name": "stdout",
     "output_type": "stream",
     "text": [
      "<class 'pandas.core.frame.DataFrame'>\n",
      "RangeIndex: 3000 entries, 0 to 2999\n",
      "Data columns (total 11 columns):\n",
      " #   Column      Non-Null Count  Dtype  \n",
      "---  ------      --------------  -----  \n",
      " 0   year        3000 non-null   int64  \n",
      " 1   age         3000 non-null   int64  \n",
      " 2   maritl      3000 non-null   object \n",
      " 3   race        3000 non-null   object \n",
      " 4   education   3000 non-null   object \n",
      " 5   region      3000 non-null   object \n",
      " 6   jobclass    3000 non-null   object \n",
      " 7   health      3000 non-null   object \n",
      " 8   health_ins  3000 non-null   object \n",
      " 9   logwage     3000 non-null   float64\n",
      " 10  wage        3000 non-null   float64\n",
      "dtypes: float64(2), int64(2), object(7)\n",
      "memory usage: 257.9+ KB\n"
     ]
    }
   ],
   "source": [
    "# Question 5\n",
    "wage_data.info()"
   ]
  },
  {
   "cell_type": "code",
   "execution_count": 6,
   "metadata": {},
   "outputs": [
    {
     "name": "stdout",
     "output_type": "stream",
     "text": [
      "maritl       object\n",
      "education    object\n",
      "dtype: object\n"
     ]
    }
   ],
   "source": [
    "# Question 6\n",
    "selected_columns = ['maritl', 'education']\n",
    "data_types_subset = wage_data[selected_columns].dtypes\n",
    "print(data_types_subset)"
   ]
  },
  {
   "cell_type": "code",
   "execution_count": 7,
   "metadata": {},
   "outputs": [
    {
     "name": "stdout",
     "output_type": "stream",
     "text": [
      "Index(['year', 'age', 'maritl', 'race', 'education', 'region', 'jobclass',\n",
      "       'health', 'health_ins', 'logwage', 'wage'],\n",
      "      dtype='object')\n"
     ]
    }
   ],
   "source": [
    "# Question 7\n",
    "column_names = wage_data.columns\n",
    "print(column_names)"
   ]
  },
  {
   "cell_type": "code",
   "execution_count": 8,
   "metadata": {},
   "outputs": [
    {
     "name": "stdout",
     "output_type": "stream",
     "text": [
      "RangeIndex(start=0, stop=3000, step=1)\n"
     ]
    }
   ],
   "source": [
    "# Question 8\n",
    "data_index = wage_data.index\n",
    "print(data_index)"
   ]
  },
  {
   "cell_type": "code",
   "execution_count": 9,
   "metadata": {},
   "outputs": [
    {
     "name": "stdout",
     "output_type": "stream",
     "text": [
      "33000\n"
     ]
    }
   ],
   "source": [
    "# Question 9\n",
    "total_elements = wage_data.size\n",
    "print(total_elements)"
   ]
  },
  {
   "cell_type": "code",
   "execution_count": 10,
   "metadata": {},
   "outputs": [
    {
     "name": "stdout",
     "output_type": "stream",
     "text": [
      "Rows: 3000\n",
      "Columns: 11\n"
     ]
    }
   ],
   "source": [
    "# Question 10\n",
    "num_rows, num_columns = wage_data.shape\n",
    "print(\"Rows:\", num_rows)\n",
    "print(\"Columns:\" ,num_columns)"
   ]
  },
  {
   "cell_type": "code",
   "execution_count": 23,
   "metadata": {},
   "outputs": [
    {
     "name": "stdout",
     "output_type": "stream",
     "text": [
      "Wage:\n",
      "count    3000.000000\n",
      "mean      111.703608\n",
      "std        41.728595\n",
      "min        20.085537\n",
      "25%        85.383940\n",
      "50%       104.921507\n",
      "75%       128.680488\n",
      "max       318.342430\n",
      "Name: wage, dtype: float64\n",
      "\n",
      "\n",
      "Age:\n",
      "count    3000.000000\n",
      "mean       42.414667\n",
      "std        11.542406\n",
      "min        18.000000\n",
      "25%        33.750000\n",
      "50%        42.000000\n",
      "75%        51.000000\n",
      "max        80.000000\n",
      "Name: age, dtype: float64\n"
     ]
    }
   ],
   "source": [
    "# Question 11\n",
    "# Display descriptive statistics for the 'wage' and 'age' columns\n",
    "statistics_wage = wage_data['wage'].describe()\n",
    "statistics_age = wage_data['age'].describe()\n",
    "print(\"Wage:\")\n",
    "print(statistics_wage)\n",
    "print(\"\\n\")\n",
    "print(\"Age:\")\n",
    "print(statistics_age)"
   ]
  },
  {
   "cell_type": "code",
   "execution_count": 11,
   "metadata": {},
   "outputs": [
    {
     "name": "stdout",
     "output_type": "stream",
     "text": [
      "Wage and age columns by each race:\n",
      "            wage                                                           \\\n",
      "           count        mean        std        min        25%         50%   \n",
      "race                                                                        \n",
      "1. White  2480.0  112.563666  41.733830  20.085537  86.695155  106.348256   \n",
      "2. Black   293.0  101.601177  37.162486  23.274704  81.283253   94.072715   \n",
      "3. Asian   190.0  120.288288  46.422514  34.607418  87.981033  115.375039   \n",
      "4. Other    37.0   89.973326  29.153530  38.223583  71.319639   81.283253   \n",
      "\n",
      "                                     age                                     \\\n",
      "                 75%         max   count       mean        std   min    25%   \n",
      "race                                                                          \n",
      "1. White  130.042934  314.329336  2480.0  42.394758  11.365655  18.0  34.00   \n",
      "2. Black  117.146817  318.342430   293.0  43.563140  13.012913  18.0  33.00   \n",
      "3. Asian  144.828129  299.262977   190.0  41.821053  11.218823  22.0  32.25   \n",
      "4. Other  104.921507  169.528538    37.0  37.702703  11.553895  21.0  28.00   \n",
      "\n",
      "                            \n",
      "           50%   75%   max  \n",
      "race                        \n",
      "1. White  42.0  51.0  80.0  \n",
      "2. Black  44.0  52.0  75.0  \n",
      "3. Asian  40.0  50.0  76.0  \n",
      "4. Other  39.0  47.0  65.0  \n"
     ]
    }
   ],
   "source": [
    "# Question 12\n",
    "statistics_by_race = wage_data.groupby('race')[['wage', 'age']].describe()\n",
    "print(\"Wage and age columns by each race:\")\n",
    "print(statistics_by_race)"
   ]
  },
  {
   "cell_type": "code",
   "execution_count": 12,
   "metadata": {},
   "outputs": [
    {
     "name": "stdout",
     "output_type": "stream",
     "text": [
      "Mean wage: 111.70\n",
      "Median wage: 104.92\n",
      "Mean is the arithmetic average of all the values in the 'wage' column. It is sensitive to outliers\n",
      "The median is the middle value when the 'wage' values are sorted in ascending order. The median is less affected by the outliers\n",
      "In this case, the mean is higher than the median.\n",
      "We can conclude that the distribution of wages is right-skewed.\n"
     ]
    }
   ],
   "source": [
    "# Question 13\n",
    "mean_wage = wage_data['wage'].mean()\n",
    "median_wage = wage_data['wage'].median()\n",
    "print(f\"Mean wage: {mean_wage:.2f}\")\n",
    "print(f\"Median wage: {median_wage:.2f}\")\n",
    "print(\"Mean is the arithmetic average of all the values in the 'wage' column. It is sensitive to outliers\")\n",
    "print(\"The median is the middle value when the 'wage' values are sorted in ascending order. The median is less affected by the outliers\")\n",
    "print(\"In this case, the mean is higher than the median.\")\n",
    "print(\"We can conclude that the distribution of wages is right-skewed.\")"
   ]
  },
  {
   "cell_type": "code",
   "execution_count": 28,
   "metadata": {},
   "outputs": [
    {
     "name": "stdout",
     "output_type": "stream",
     "text": [
      "      age        wage\n",
      "0      18   75.043154\n",
      "1      24   70.476020\n",
      "2      45  130.982177\n",
      "3      43  154.685293\n",
      "4      50   75.043154\n",
      "...   ...         ...\n",
      "2995   44  154.685293\n",
      "2996   30   99.689464\n",
      "2997   27   66.229408\n",
      "2998   27   87.981033\n",
      "2999   55   90.481913\n",
      "\n",
      "[3000 rows x 2 columns]\n"
     ]
    }
   ],
   "source": [
    "# Question 14\n",
    "age_wage_subset = wage_data[['age', 'wage']]\n",
    "print(age_wage_subset)"
   ]
  },
  {
   "cell_type": "code",
   "execution_count": 30,
   "metadata": {},
   "outputs": [
    {
     "name": "stdout",
     "output_type": "stream",
     "text": [
      "Correlation between 'age' and 'wage': 0.20\n",
      "As the correlation coefficient is a positive number, this indicates that as one variable increases, the other tends to increase as well\n",
      "However, the correlation is not very significant as it is close to 0.\n"
     ]
    }
   ],
   "source": [
    "# Question 15\n",
    "correlation = wage_data['age'].corr(wage_data['wage'])\n",
    "print(f\"Correlation between 'age' and 'wage': {correlation:.2f}\")\n",
    "print(\"As the correlation coefficient is a positive number, this indicates that as one variable increases, the other tends to increase as well\")\n",
    "print(\"However, the correlation is not very significant as it is close to 0.\")"
   ]
  },
  {
   "cell_type": "code",
   "execution_count": 32,
   "metadata": {},
   "outputs": [
    {
     "name": "stdout",
     "output_type": "stream",
     "text": [
      "            wage\n",
      "206   318.342430\n",
      "1229  318.342430\n",
      "503   314.329336\n",
      "1293  311.934569\n",
      "1112  309.571771\n",
      "2712  309.571771\n",
      "2893  299.262977\n",
      "2925  295.991250\n",
      "489   284.524741\n",
      "347   281.745971\n"
     ]
    }
   ],
   "source": [
    "# Question 16\n",
    "top_10_salaries = wage_data.nlargest(10, 'wage')\n",
    "print(top_10_salaries[['wage']])"
   ]
  },
  {
   "cell_type": "code",
   "execution_count": 33,
   "metadata": {},
   "outputs": [
    {
     "name": "stdout",
     "output_type": "stream",
     "text": [
      "Counts of each race in the dataset:\n",
      "1. White    2480\n",
      "2. Black     293\n",
      "3. Asian     190\n",
      "4. Other      37\n",
      "Name: race, dtype: int64\n"
     ]
    }
   ],
   "source": [
    "# Question 17\n",
    "race_counts = wage_data['race'].value_counts()\n",
    "print(\"Counts of each race in the dataset:\")\n",
    "print(race_counts)"
   ]
  },
  {
   "cell_type": "code",
   "execution_count": 34,
   "metadata": {},
   "outputs": [
    {
     "name": "stdout",
     "output_type": "stream",
     "text": [
      "Proportion of each race in the dataset:\n",
      "1. White    0.826667\n",
      "2. Black    0.097667\n",
      "3. Asian    0.063333\n",
      "4. Other    0.012333\n",
      "Name: race, dtype: float64\n"
     ]
    }
   ],
   "source": [
    "# Question 18\n",
    "race_proportions = wage_data['race'].value_counts(normalize=True)\n",
    "print(\"Proportion of each race in the dataset:\")\n",
    "print(race_proportions)"
   ]
  },
  {
   "cell_type": "code",
   "execution_count": 36,
   "metadata": {},
   "outputs": [
    {
     "name": "stdout",
     "output_type": "stream",
     "text": [
      "2. Middle Atlantic    1.0\n",
      "Name: region, dtype: float64\n"
     ]
    },
    {
     "data": {
      "image/png": "[encoded data removed]",
      "text/plain": [
       "<Figure size 576x432 with 1 Axes>"
      ]
     },
     "metadata": {
      "needs_background": "light"
     },
     "output_type": "display_data"
    }
   ],
   "source": [
    "# Question 19\n",
    "import matplotlib.pyplot as plt\n",
    "\n",
    "region_proportions = wage_data['region'].value_counts(normalize=True)\n",
    "print(region_proportions)\n",
    "\n",
    "plt.figure(figsize=(8, 6))\n",
    "region_proportions.plot(kind='bar', color='skyblue')\n",
    "plt.title('Regional Proportionality')\n",
    "plt.xlabel('Region')\n",
    "plt.ylabel('Proportion')\n",
    "plt.show()"
   ]
  },
  {
   "cell_type": "code",
   "execution_count": null,
   "metadata": {},
   "outputs": [],
   "source": []
  }
 ],
 "metadata": {
  "kernelspec": {
   "display_name": "Python 3",
   "language": "python",
   "name": "python3"
  },
  "language_info": {
   "codemirror_mode": {
    "name": "ipython",
    "version": 3
   },
   "file_extension": ".py",
   "mimetype": "text/x-python",
   "name": "python",
   "nbconvert_exporter": "python",
   "pygments_lexer": "ipython3",
   "version": "3.7.9"
  }
 },
 "nbformat": 4,
 "nbformat_minor": 4
}
